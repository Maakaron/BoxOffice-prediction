{
 "cells": [
  {
   "cell_type": "markdown",
   "metadata": {},
   "source": []
  },
  {
   "cell_type": "code",
   "execution_count": 2,
   "metadata": {},
   "outputs": [
    {
     "data": {
      "text/html": [
       "<div>\n",
       "<style scoped>\n",
       "    .dataframe tbody tr th:only-of-type {\n",
       "        vertical-align: middle;\n",
       "    }\n",
       "\n",
       "    .dataframe tbody tr th {\n",
       "        vertical-align: top;\n",
       "    }\n",
       "\n",
       "    .dataframe thead th {\n",
       "        text-align: right;\n",
       "    }\n",
       "</style>\n",
       "<table border=\"1\" class=\"dataframe\">\n",
       "  <thead>\n",
       "    <tr style=\"text-align: right;\">\n",
       "      <th></th>\n",
       "      <th>imdb_title_id</th>\n",
       "      <th>title</th>\n",
       "      <th>year</th>\n",
       "      <th>genre</th>\n",
       "      <th>duration</th>\n",
       "      <th>country</th>\n",
       "      <th>language</th>\n",
       "      <th>director</th>\n",
       "      <th>production_company</th>\n",
       "      <th>budget</th>\n",
       "      <th>usa_gross_income</th>\n",
       "      <th>worlwide_gross_income</th>\n",
       "    </tr>\n",
       "  </thead>\n",
       "  <tbody>\n",
       "    <tr>\n",
       "      <th>0</th>\n",
       "      <td>tt0035423</td>\n",
       "      <td>Kate &amp; Leopold</td>\n",
       "      <td>2001</td>\n",
       "      <td>Comedy, Fantasy, Romance</td>\n",
       "      <td>118</td>\n",
       "      <td>USA</td>\n",
       "      <td>English, French</td>\n",
       "      <td>James Mangold</td>\n",
       "      <td>Konrad Pictures</td>\n",
       "      <td>48000000</td>\n",
       "      <td>47121859</td>\n",
       "      <td>76019048</td>\n",
       "    </tr>\n",
       "    <tr>\n",
       "      <th>1</th>\n",
       "      <td>tt0098375</td>\n",
       "      <td>Spontaneous Combustion</td>\n",
       "      <td>1990</td>\n",
       "      <td>Horror, Sci-Fi, Thriller</td>\n",
       "      <td>97</td>\n",
       "      <td>USA</td>\n",
       "      <td>English</td>\n",
       "      <td>Tobe Hooper</td>\n",
       "      <td>Black Owl Productions</td>\n",
       "      <td>5500000</td>\n",
       "      <td>50367</td>\n",
       "      <td>50367</td>\n",
       "    </tr>\n",
       "    <tr>\n",
       "      <th>2</th>\n",
       "      <td>tt0098987</td>\n",
       "      <td>The Adventures of Ford Fairlane</td>\n",
       "      <td>1990</td>\n",
       "      <td>Action, Adventure, Comedy</td>\n",
       "      <td>104</td>\n",
       "      <td>USA</td>\n",
       "      <td>English</td>\n",
       "      <td>Renny Harlin</td>\n",
       "      <td>Twentieth Century Fox</td>\n",
       "      <td>20000000</td>\n",
       "      <td>21413502</td>\n",
       "      <td>21413502</td>\n",
       "    </tr>\n",
       "    <tr>\n",
       "      <th>3</th>\n",
       "      <td>tt0099005</td>\n",
       "      <td>Air America</td>\n",
       "      <td>1990</td>\n",
       "      <td>Action, Comedy, War</td>\n",
       "      <td>113</td>\n",
       "      <td>USA</td>\n",
       "      <td>English, Lao</td>\n",
       "      <td>Roger Spottiswoode</td>\n",
       "      <td>Carolco Pictures</td>\n",
       "      <td>35000000</td>\n",
       "      <td>31053601</td>\n",
       "      <td>33461269</td>\n",
       "    </tr>\n",
       "    <tr>\n",
       "      <th>4</th>\n",
       "      <td>tt0099012</td>\n",
       "      <td>Alice</td>\n",
       "      <td>1990</td>\n",
       "      <td>Comedy, Romance</td>\n",
       "      <td>106</td>\n",
       "      <td>USA</td>\n",
       "      <td>English, Cantonese</td>\n",
       "      <td>Woody Allen</td>\n",
       "      <td>Jack Rollins &amp; Charles H. Joffe Productions</td>\n",
       "      <td>12000000</td>\n",
       "      <td>7331647</td>\n",
       "      <td>7331647</td>\n",
       "    </tr>\n",
       "    <tr>\n",
       "      <th>...</th>\n",
       "      <td>...</td>\n",
       "      <td>...</td>\n",
       "      <td>...</td>\n",
       "      <td>...</td>\n",
       "      <td>...</td>\n",
       "      <td>...</td>\n",
       "      <td>...</td>\n",
       "      <td>...</td>\n",
       "      <td>...</td>\n",
       "      <td>...</td>\n",
       "      <td>...</td>\n",
       "      <td>...</td>\n",
       "    </tr>\n",
       "    <tr>\n",
       "      <th>5388</th>\n",
       "      <td>tt8663516</td>\n",
       "      <td>Child's Play</td>\n",
       "      <td>2019</td>\n",
       "      <td>Horror</td>\n",
       "      <td>90</td>\n",
       "      <td>France, Canada, USA</td>\n",
       "      <td>English, Vietnamese</td>\n",
       "      <td>Lars Klevberg</td>\n",
       "      <td>Orion Pictures</td>\n",
       "      <td>10000000</td>\n",
       "      <td>29208403</td>\n",
       "      <td>44902237</td>\n",
       "    </tr>\n",
       "    <tr>\n",
       "      <th>5389</th>\n",
       "      <td>tt8772262</td>\n",
       "      <td>Midsommar</td>\n",
       "      <td>2019</td>\n",
       "      <td>Drama, Horror, Mystery</td>\n",
       "      <td>147</td>\n",
       "      <td>USA, Sweden, Hungary</td>\n",
       "      <td>English, Swedish</td>\n",
       "      <td>Ari Aster</td>\n",
       "      <td>Proton Cinema</td>\n",
       "      <td>10000000</td>\n",
       "      <td>27426361</td>\n",
       "      <td>41123770</td>\n",
       "    </tr>\n",
       "    <tr>\n",
       "      <th>5390</th>\n",
       "      <td>tt9024106</td>\n",
       "      <td>Unplanned</td>\n",
       "      <td>2019</td>\n",
       "      <td>Biography, Drama</td>\n",
       "      <td>109</td>\n",
       "      <td>USA</td>\n",
       "      <td>English</td>\n",
       "      <td>Chuck Konzelman, Cary Solomon</td>\n",
       "      <td>Unplanned Movie</td>\n",
       "      <td>6000000</td>\n",
       "      <td>19005109</td>\n",
       "      <td>19320481</td>\n",
       "    </tr>\n",
       "    <tr>\n",
       "      <th>5391</th>\n",
       "      <td>tt9134216</td>\n",
       "      <td>Playing with Fire</td>\n",
       "      <td>2019</td>\n",
       "      <td>Comedy, Family</td>\n",
       "      <td>96</td>\n",
       "      <td>USA</td>\n",
       "      <td>English</td>\n",
       "      <td>Andy Fickman</td>\n",
       "      <td>Broken Road Productions</td>\n",
       "      <td>29900000</td>\n",
       "      <td>18847824</td>\n",
       "      <td>21788746</td>\n",
       "    </tr>\n",
       "    <tr>\n",
       "      <th>5392</th>\n",
       "      <td>tt9354944</td>\n",
       "      <td>Jexi</td>\n",
       "      <td>2019</td>\n",
       "      <td>Comedy</td>\n",
       "      <td>84</td>\n",
       "      <td>USA</td>\n",
       "      <td>English</td>\n",
       "      <td>Jon Lucas, Scott Moore</td>\n",
       "      <td>CBS Films</td>\n",
       "      <td>5000000</td>\n",
       "      <td>6546159</td>\n",
       "      <td>7257918</td>\n",
       "    </tr>\n",
       "  </tbody>\n",
       "</table>\n",
       "<p>5393 rows × 12 columns</p>\n",
       "</div>"
      ],
      "text/plain": [
       "     imdb_title_id                            title  year  \\\n",
       "0        tt0035423                   Kate & Leopold  2001   \n",
       "1        tt0098375           Spontaneous Combustion  1990   \n",
       "2        tt0098987  The Adventures of Ford Fairlane  1990   \n",
       "3        tt0099005                      Air America  1990   \n",
       "4        tt0099012                            Alice  1990   \n",
       "...            ...                              ...   ...   \n",
       "5388     tt8663516                     Child's Play  2019   \n",
       "5389     tt8772262                        Midsommar  2019   \n",
       "5390     tt9024106                        Unplanned  2019   \n",
       "5391     tt9134216                Playing with Fire  2019   \n",
       "5392     tt9354944                             Jexi  2019   \n",
       "\n",
       "                          genre  duration               country  \\\n",
       "0      Comedy, Fantasy, Romance       118                   USA   \n",
       "1      Horror, Sci-Fi, Thriller        97                   USA   \n",
       "2     Action, Adventure, Comedy       104                   USA   \n",
       "3           Action, Comedy, War       113                   USA   \n",
       "4               Comedy, Romance       106                   USA   \n",
       "...                         ...       ...                   ...   \n",
       "5388                     Horror        90   France, Canada, USA   \n",
       "5389     Drama, Horror, Mystery       147  USA, Sweden, Hungary   \n",
       "5390           Biography, Drama       109                   USA   \n",
       "5391             Comedy, Family        96                   USA   \n",
       "5392                     Comedy        84                   USA   \n",
       "\n",
       "                 language                       director  \\\n",
       "0         English, French                  James Mangold   \n",
       "1                 English                    Tobe Hooper   \n",
       "2                 English                   Renny Harlin   \n",
       "3            English, Lao             Roger Spottiswoode   \n",
       "4      English, Cantonese                    Woody Allen   \n",
       "...                   ...                            ...   \n",
       "5388  English, Vietnamese                  Lars Klevberg   \n",
       "5389     English, Swedish                      Ari Aster   \n",
       "5390              English  Chuck Konzelman, Cary Solomon   \n",
       "5391              English                   Andy Fickman   \n",
       "5392              English         Jon Lucas, Scott Moore   \n",
       "\n",
       "                               production_company    budget  usa_gross_income  \\\n",
       "0                                 Konrad Pictures  48000000          47121859   \n",
       "1                           Black Owl Productions   5500000             50367   \n",
       "2                           Twentieth Century Fox  20000000          21413502   \n",
       "3                                Carolco Pictures  35000000          31053601   \n",
       "4     Jack Rollins & Charles H. Joffe Productions  12000000           7331647   \n",
       "...                                           ...       ...               ...   \n",
       "5388                               Orion Pictures  10000000          29208403   \n",
       "5389                                Proton Cinema  10000000          27426361   \n",
       "5390                              Unplanned Movie   6000000          19005109   \n",
       "5391                      Broken Road Productions  29900000          18847824   \n",
       "5392                                    CBS Films   5000000           6546159   \n",
       "\n",
       "      worlwide_gross_income  \n",
       "0                  76019048  \n",
       "1                     50367  \n",
       "2                  21413502  \n",
       "3                  33461269  \n",
       "4                   7331647  \n",
       "...                     ...  \n",
       "5388               44902237  \n",
       "5389               41123770  \n",
       "5390               19320481  \n",
       "5391               21788746  \n",
       "5392                7257918  \n",
       "\n",
       "[5393 rows x 12 columns]"
      ]
     },
     "metadata": {},
     "output_type": "display_data"
    }
   ],
   "source": [
    "#importing data after clean up in OpenRefine\n",
    "#removed entires with missing important values such as budget, revenue, title etc. \n",
    "#removed movies released before 1990\n",
    "#removed all movies that don't include english language \n",
    "# minor fixes regarding foregin laguage sings and encoding\n",
    "%matplotlib inline\n",
    "import pandas as pd\n",
    "import numpy as np\n",
    "import matplotlib.pyplot as pt\n",
    "import matplotlib.patches as mpatches\n",
    "\n",
    "data = pd.read_csv('movies-refined-X.csv')\n",
    "data.shape\n",
    "display(data)"
   ]
  },
  {
   "cell_type": "code",
   "execution_count": 3,
   "metadata": {},
   "outputs": [],
   "source": [
    "income = data.worlwide_gross_income"
   ]
  },
  {
   "cell_type": "code",
   "execution_count": 4,
   "metadata": {},
   "outputs": [
    {
     "data": {
      "image/png": "[encoded data removed]",
      "text/plain": [
       "<Figure size 432x288 with 1 Axes>"
      ]
     },
     "metadata": {
      "needs_background": "light"
     },
     "output_type": "display_data"
    }
   ],
   "source": [
    "#visualizing movie distribution by revenue\n",
    "classes = [0]*10\n",
    "for inc in income:\n",
    "    if inc <= 1000000:\n",
    "        classes[0]+=1\n",
    "    elif inc <= 10000000:\n",
    "        classes[1]+=1\n",
    "    elif inc <= 20000000:\n",
    "        classes[2]+=1\n",
    "    elif inc <= 30000000:\n",
    "        classes[3]+=1\n",
    "    elif inc <= 40000000:\n",
    "        classes[4]+=1\n",
    "    elif inc <= 65000000:\n",
    "        classes[5]+=1\n",
    "    elif inc <= 100000000:\n",
    "        classes[6]+=1\n",
    "    elif inc <= 150000000:\n",
    "        classes[7]+=1\n",
    "    elif inc <= 200000000:\n",
    "        classes[8]+=1\n",
    "    else:\n",
    "        classes[9]+=1\n",
    "        \n",
    "        pt.bar(np.arange(10), classes)\n",
    "        \n",
    "pt.xticks(np.arange(10), np.arange(1,11))\n",
    "pt.xlabel('Class')\n",
    "pt.ylabel('Number of movies')\n",
    "pt.rcParams['legend.handlelength'] = 0\n",
    "pt.legend(('1 - Less than 1000000$','2 - Less than 10000000$','3 - Less than 20000000$','4- Less than 30000000$',\n",
    "           '5 - Less than 40000000$','6 - Less than 65000000$','7 - Less than 100000000$',\n",
    "           '8 - Less than 150000000$','9 - Less than 200000000$','10 - More than 200000000$'),\n",
    "          bbox_to_anchor=(1.05, 1), loc='upper left', borderaxespad=0.)\n",
    "pt.show()"
   ]
  },
  {
   "cell_type": "code",
   "execution_count": 5,
   "metadata": {},
   "outputs": [
    {
     "data": {
      "text/html": [
       "<div>\n",
       "<style scoped>\n",
       "    .dataframe tbody tr th:only-of-type {\n",
       "        vertical-align: middle;\n",
       "    }\n",
       "\n",
       "    .dataframe tbody tr th {\n",
       "        vertical-align: top;\n",
       "    }\n",
       "\n",
       "    .dataframe thead th {\n",
       "        text-align: right;\n",
       "    }\n",
       "</style>\n",
       "<table border=\"1\" class=\"dataframe\">\n",
       "  <thead>\n",
       "    <tr style=\"text-align: right;\">\n",
       "      <th></th>\n",
       "      <th>imdb_title_id</th>\n",
       "      <th>title</th>\n",
       "      <th>year</th>\n",
       "      <th>genre</th>\n",
       "      <th>duration</th>\n",
       "      <th>country</th>\n",
       "      <th>language</th>\n",
       "      <th>director</th>\n",
       "      <th>production_company</th>\n",
       "      <th>budget</th>\n",
       "      <th>usa_gross_income</th>\n",
       "      <th>worlwide_gross_income</th>\n",
       "      <th>Real GDP (trillions $)</th>\n",
       "      <th>GDP Growth Rate %</th>\n",
       "    </tr>\n",
       "  </thead>\n",
       "  <tbody>\n",
       "    <tr>\n",
       "      <th>0</th>\n",
       "      <td>tt0035423</td>\n",
       "      <td>Kate &amp; Leopold</td>\n",
       "      <td>2001</td>\n",
       "      <td>Comedy, Fantasy, Romance</td>\n",
       "      <td>118</td>\n",
       "      <td>USA</td>\n",
       "      <td>English, French</td>\n",
       "      <td>James Mangold</td>\n",
       "      <td>Konrad Pictures</td>\n",
       "      <td>48000000</td>\n",
       "      <td>47121859</td>\n",
       "      <td>76019048</td>\n",
       "      <td>13.262</td>\n",
       "      <td>1.0</td>\n",
       "    </tr>\n",
       "    <tr>\n",
       "      <th>1</th>\n",
       "      <td>tt0098375</td>\n",
       "      <td>Spontaneous Combustion</td>\n",
       "      <td>1990</td>\n",
       "      <td>Horror, Sci-Fi, Thriller</td>\n",
       "      <td>97</td>\n",
       "      <td>USA</td>\n",
       "      <td>English</td>\n",
       "      <td>Tobe Hooper</td>\n",
       "      <td>Black Owl Productions</td>\n",
       "      <td>5500000</td>\n",
       "      <td>50367</td>\n",
       "      <td>50367</td>\n",
       "      <td>9.366</td>\n",
       "      <td>1.9</td>\n",
       "    </tr>\n",
       "    <tr>\n",
       "      <th>2</th>\n",
       "      <td>tt0098987</td>\n",
       "      <td>The Adventures of Ford Fairlane</td>\n",
       "      <td>1990</td>\n",
       "      <td>Action, Adventure, Comedy</td>\n",
       "      <td>104</td>\n",
       "      <td>USA</td>\n",
       "      <td>English</td>\n",
       "      <td>Renny Harlin</td>\n",
       "      <td>Twentieth Century Fox</td>\n",
       "      <td>20000000</td>\n",
       "      <td>21413502</td>\n",
       "      <td>21413502</td>\n",
       "      <td>9.366</td>\n",
       "      <td>1.9</td>\n",
       "    </tr>\n",
       "    <tr>\n",
       "      <th>3</th>\n",
       "      <td>tt0099005</td>\n",
       "      <td>Air America</td>\n",
       "      <td>1990</td>\n",
       "      <td>Action, Comedy, War</td>\n",
       "      <td>113</td>\n",
       "      <td>USA</td>\n",
       "      <td>English, Lao</td>\n",
       "      <td>Roger Spottiswoode</td>\n",
       "      <td>Carolco Pictures</td>\n",
       "      <td>35000000</td>\n",
       "      <td>31053601</td>\n",
       "      <td>33461269</td>\n",
       "      <td>9.366</td>\n",
       "      <td>1.9</td>\n",
       "    </tr>\n",
       "    <tr>\n",
       "      <th>4</th>\n",
       "      <td>tt0099012</td>\n",
       "      <td>Alice</td>\n",
       "      <td>1990</td>\n",
       "      <td>Comedy, Romance</td>\n",
       "      <td>106</td>\n",
       "      <td>USA</td>\n",
       "      <td>English, Cantonese</td>\n",
       "      <td>Woody Allen</td>\n",
       "      <td>Jack Rollins &amp; Charles H. Joffe Productions</td>\n",
       "      <td>12000000</td>\n",
       "      <td>7331647</td>\n",
       "      <td>7331647</td>\n",
       "      <td>9.366</td>\n",
       "      <td>1.9</td>\n",
       "    </tr>\n",
       "  </tbody>\n",
       "</table>\n",
       "</div>"
      ],
      "text/plain": [
       "  imdb_title_id                            title  year  \\\n",
       "0     tt0035423                   Kate & Leopold  2001   \n",
       "1     tt0098375           Spontaneous Combustion  1990   \n",
       "2     tt0098987  The Adventures of Ford Fairlane  1990   \n",
       "3     tt0099005                      Air America  1990   \n",
       "4     tt0099012                            Alice  1990   \n",
       "\n",
       "                       genre  duration country            language  \\\n",
       "0   Comedy, Fantasy, Romance       118     USA     English, French   \n",
       "1   Horror, Sci-Fi, Thriller        97     USA             English   \n",
       "2  Action, Adventure, Comedy       104     USA             English   \n",
       "3        Action, Comedy, War       113     USA        English, Lao   \n",
       "4            Comedy, Romance       106     USA  English, Cantonese   \n",
       "\n",
       "             director                           production_company    budget  \\\n",
       "0       James Mangold                              Konrad Pictures  48000000   \n",
       "1         Tobe Hooper                        Black Owl Productions   5500000   \n",
       "2        Renny Harlin                        Twentieth Century Fox  20000000   \n",
       "3  Roger Spottiswoode                             Carolco Pictures  35000000   \n",
       "4         Woody Allen  Jack Rollins & Charles H. Joffe Productions  12000000   \n",
       "\n",
       "   usa_gross_income  worlwide_gross_income  Real GDP (trillions $)  \\\n",
       "0          47121859               76019048                  13.262   \n",
       "1             50367                  50367                   9.366   \n",
       "2          21413502               21413502                   9.366   \n",
       "3          31053601               33461269                   9.366   \n",
       "4           7331647                7331647                   9.366   \n",
       "\n",
       "   GDP Growth Rate %  \n",
       "0                1.0  \n",
       "1                1.9  \n",
       "2                1.9  \n",
       "3                1.9  \n",
       "4                1.9  "
      ]
     },
     "execution_count": 5,
     "metadata": {},
     "output_type": "execute_result"
    }
   ],
   "source": [
    "#Adding GDP and GDP growth data to dataframe\n",
    "    \n",
    "con =  [\n",
    "        (data['year'] == 1990),\n",
    "        (data['year'] == 1991),\n",
    "        (data['year'] == 1992),\n",
    "        (data['year'] == 1993),\n",
    "        (data['year'] == 1994),\n",
    "        (data['year'] == 1995),\n",
    "        (data['year'] == 1996),\n",
    "        (data['year'] == 1997),\n",
    "        (data['year'] == 1998),\n",
    "        (data['year'] == 1999),\n",
    "        (data['year'] == 2000),\n",
    "        (data['year'] == 2001),\n",
    "        (data['year'] == 2002),\n",
    "        (data['year'] == 2003),\n",
    "        (data['year'] == 2004),\n",
    "        (data['year'] == 2005),\n",
    "        (data['year'] == 2006),\n",
    "        (data['year'] == 2007),\n",
    "        (data['year'] == 2008),\n",
    "        (data['year'] == 2009),\n",
    "        (data['year'] == 2010),\n",
    "        (data['year'] == 2011),\n",
    "        (data['year'] == 2012),\n",
    "        (data['year'] == 2013),\n",
    "        (data['year'] == 2014),\n",
    "        (data['year'] == 2015),\n",
    "        (data['year'] == 2016),\n",
    "        (data['year'] == 2017),\n",
    "        (data['year'] == 2018),\n",
    "        (data['year'] == 2019)]\n",
    "\n",
    "\n",
    "GDP1 =[9.366,9.355,9.685,9.952,10.352,10.63,11.031,11.522,12.038,12.611,13.131,13.262,13.493,13.879,14.406,\n",
    "            14.913,15.338,15.626,15.605,15.209,15.599,15.841,16.197,16.495,16.912,17.404,17.689,18.108,18.638,19.073]\n",
    "GDP2 = [1.9,-0.1,3.5,2.8,4.0,2.7,3.8,4.4,4.5,4.8,4.1,1.0,1.7,2.9,3.8,3.5,2.9,1.9,-0.1,-2.5,2.6,1.6,2.2,1.8,2.5,2.9,1.6,2.4,2.9,2.3]\n",
    "\n",
    "                  \n",
    "data['Real GDP (trillions $)'] =np.select(con,GDP1)\n",
    "data['GDP Growth Rate %'] =np.select(con,GDP2)\n",
    "data.head()"
   ]
  },
  {
   "cell_type": "code",
   "execution_count": null,
   "metadata": {},
   "outputs": [],
   "source": [
    "data.to_csv('movies-ref-GDP.csv')"
   ]
  },
  {
   "cell_type": "code",
   "execution_count": null,
   "metadata": {},
   "outputs": [],
   "source": [
    "%matplotlib inline\n",
    "import pandas as pd\n",
    "import numpy as np\n",
    "import matplotlib.pyplot as pt\n",
    "import matplotlib.patches as mpatches\n",
    "\n",
    "#data = pd.read_csv('movies-ref-GDP.csv')\n",
    "data = pd.read_csv('movies-ref-GDP-csv.csv')\n",
    "data.shape"
   ]
  },
  {
   "cell_type": "code",
   "execution_count": null,
   "metadata": {},
   "outputs": [],
   "source": [
    "#Splitting genre object, turning it to binary through get_dummies and concat with the oryginal dataframe\n",
    "\n",
    "binary=data.genre.str.get_dummies(sep=', ')\n",
    "data = pd.concat([data, binary], axis = 1)\n",
    "display(binary)\n",
    "display(data)"
   ]
  },
  {
   "cell_type": "code",
   "execution_count": null,
   "metadata": {},
   "outputs": [],
   "source": [
    "data.drop(['Column','imdb_title_id','genre'], axis=1)"
   ]
  },
  {
   "cell_type": "code",
   "execution_count": null,
   "metadata": {},
   "outputs": [],
   "source": [
    "data.to_csv('movies-checkpoint_genre_clean.csv')"
   ]
  },
  {
   "cell_type": "code",
   "execution_count": null,
   "metadata": {},
   "outputs": [],
   "source": [
    "%matplotlib inline\n",
    "import pandas as pd\n",
    "import numpy as np\n",
    "import matplotlib.pyplot as pt\n",
    "import matplotlib.patches as mpatches\n",
    "\n",
    "data = pd.read_csv('movies-checkpoint_genre_clean.csv')\n",
    "data.shape\n",
    "display(data)"
   ]
  },
  {
   "cell_type": "code",
   "execution_count": null,
   "metadata": {},
   "outputs": [],
   "source": [
    "#Getting worldwide income sum for unique production companies\n",
    "pc = data.groupby('production_company', group_keys=False).apply(lambda x: x.loc[x.worlwide_gross_income.idxmax()]).reset_index(drop=True)\n",
    "pc.drop(pc.columns.difference(['production_company','worlwide_gross_income']), 1, inplace=True)\n",
    "pc.rename(columns={'worlwide_gross_income':'Sum_production_company_income'}, inplace=True)\n",
    "display(pc)"
   ]
  },
  {
   "cell_type": "code",
   "execution_count": null,
   "metadata": {},
   "outputs": [],
   "source": [
    "#Merging oryginal dataframe with unique values (Sum of production company income)\n",
    "data = pd.merge(data, pc, on=['production_company'])\n",
    "display(data)"
   ]
  },
  {
   "cell_type": "code",
   "execution_count": null,
   "metadata": {},
   "outputs": [],
   "source": []
  },
  {
   "cell_type": "code",
   "execution_count": null,
   "metadata": {},
   "outputs": [],
   "source": [
    "#Getting worldwide income sum for unique Director\n",
    "dr = data.groupby('director', group_keys=False).apply(lambda x: x.loc[x.worlwide_gross_income.idxmax()]).reset_index(drop=True)\n",
    "dr.drop(dr.columns.difference(['director','worlwide_gross_income']), 1, inplace=True)\n",
    "dr.rename(columns={'worlwide_gross_income':'Sum_Director_income'}, inplace=True)\n",
    "display(dr)"
   ]
  },
  {
   "cell_type": "code",
   "execution_count": null,
   "metadata": {},
   "outputs": [],
   "source": [
    "#Merging oryginal dataframe with unique values (Sum of Director income)\n",
    "data = pd.merge(data, dr, on=['director'])\n",
    "display(data)"
   ]
  },
  {
   "cell_type": "code",
   "execution_count": null,
   "metadata": {},
   "outputs": [],
   "source": [
    "#Adding movie count of a Director as Director_movies\n",
    "dir_movie = data.groupby(['director']).size().reset_index(name='Director_movies')\n",
    "display(dir_movie)\n",
    "data = pd.merge(data, dir_movie, on=['director'])\n",
    "display(data)"
   ]
  },
  {
   "cell_type": "code",
   "execution_count": null,
   "metadata": {},
   "outputs": [],
   "source": [
    "#cleaning up the dataframe\n",
    "data.rename(columns={'worlwide_gross_income':'worldwide_gross_income'}, inplace=True)\n",
    "data=data.drop(['Unnamed: 0','Column','imdb_title_id','genre','title','country','language','production_company','director'], axis=1)"
   ]
  },
  {
   "cell_type": "code",
   "execution_count": null,
   "metadata": {},
   "outputs": [],
   "source": [
    "data.to_csv('movies-checkpoint_clean.csv')"
   ]
  },
  {
   "cell_type": "code",
   "execution_count": null,
   "metadata": {},
   "outputs": [],
   "source": [
    "%matplotlib inline\n",
    "import pandas as pd\n",
    "import numpy as np\n",
    "import matplotlib.pyplot as pt\n",
    "import matplotlib.patches as mpatches\n",
    "\n",
    "data = pd.read_csv('movies-checkpoint_clean.csv')\n",
    "data.shape\n",
    "display(data)"
   ]
  },
  {
   "cell_type": "code",
   "execution_count": null,
   "metadata": {},
   "outputs": [],
   "source": [
    "#final clean up\n",
    "data=data.drop(['Unnamed: 0'], axis=1)\n",
    "data=data.astype(np.float64)\n",
    "data.year = data.year.astype(int)\n",
    "display(data)\n",
    "data.dtypes"
   ]
  },
  {
   "cell_type": "code",
   "execution_count": null,
   "metadata": {},
   "outputs": [],
   "source": [
    "#Adding classification column to determine the sucess of a movie\n",
    "data['Classification'] = np.float64(0)\n",
    "revenue = row['worldwide_gross_income']\n",
    "budget = row['budget']\n",
    "\n",
    "for i, row in data.iterrows():\n",
    "        #sucess\n",
    "        if   revenue > budget:\n",
    "             data.at[i,'Classification'] = np.float64(1)\n",
    "        #fail\n",
    "             data.at[i,'Classification'] = np.float64(0)\n",
    "        #fail\n",
    "        else:\n",
    "             data.at[i,'Classification'] = np.float64(0)\n",
    "display(data)"
   ]
  },
  {
   "cell_type": "code",
   "execution_count": null,
   "metadata": {},
   "outputs": [],
   "source": []
  },
  {
   "cell_type": "code",
   "execution_count": null,
   "metadata": {},
   "outputs": [],
   "source": []
  },
  {
   "cell_type": "code",
   "execution_count": null,
   "metadata": {},
   "outputs": [],
   "source": []
  },
  {
   "cell_type": "code",
   "execution_count": null,
   "metadata": {},
   "outputs": [],
   "source": []
  },
  {
   "cell_type": "code",
   "execution_count": null,
   "metadata": {},
   "outputs": [],
   "source": []
  },
  {
   "cell_type": "code",
   "execution_count": null,
   "metadata": {},
   "outputs": [],
   "source": []
  },
  {
   "cell_type": "code",
   "execution_count": null,
   "metadata": {},
   "outputs": [],
   "source": []
  },
  {
   "cell_type": "code",
   "execution_count": null,
   "metadata": {},
   "outputs": [],
   "source": []
  },
  {
   "cell_type": "code",
   "execution_count": null,
   "metadata": {},
   "outputs": [],
   "source": []
  },
  {
   "cell_type": "code",
   "execution_count": null,
   "metadata": {},
   "outputs": [],
   "source": []
  },
  {
   "cell_type": "code",
   "execution_count": null,
   "metadata": {},
   "outputs": [],
   "source": []
  },
  {
   "cell_type": "code",
   "execution_count": null,
   "metadata": {},
   "outputs": [],
   "source": []
  },
  {
   "cell_type": "code",
   "execution_count": null,
   "metadata": {},
   "outputs": [],
   "source": []
  },
  {
   "cell_type": "code",
   "execution_count": null,
   "metadata": {},
   "outputs": [],
   "source": []
  },
  {
   "cell_type": "code",
   "execution_count": null,
   "metadata": {},
   "outputs": [],
   "source": []
  },
  {
   "cell_type": "code",
   "execution_count": null,
   "metadata": {},
   "outputs": [],
   "source": []
  },
  {
   "cell_type": "code",
   "execution_count": null,
   "metadata": {},
   "outputs": [],
   "source": []
  },
  {
   "cell_type": "code",
   "execution_count": null,
   "metadata": {},
   "outputs": [],
   "source": []
  },
  {
   "cell_type": "code",
   "execution_count": null,
   "metadata": {},
   "outputs": [],
   "source": []
  },
  {
   "cell_type": "code",
   "execution_count": null,
   "metadata": {},
   "outputs": [],
   "source": []
  },
  {
   "cell_type": "code",
   "execution_count": null,
   "metadata": {},
   "outputs": [],
   "source": []
  },
  {
   "cell_type": "code",
   "execution_count": null,
   "metadata": {},
   "outputs": [],
   "source": []
  },
  {
   "cell_type": "code",
   "execution_count": null,
   "metadata": {},
   "outputs": [],
   "source": []
  },
  {
   "cell_type": "code",
   "execution_count": null,
   "metadata": {},
   "outputs": [],
   "source": []
  },
  {
   "cell_type": "code",
   "execution_count": null,
   "metadata": {},
   "outputs": [],
   "source": []
  },
  {
   "cell_type": "code",
   "execution_count": null,
   "metadata": {},
   "outputs": [],
   "source": []
  },
  {
   "cell_type": "code",
   "execution_count": null,
   "metadata": {},
   "outputs": [],
   "source": []
  },
  {
   "cell_type": "code",
   "execution_count": null,
   "metadata": {},
   "outputs": [],
   "source": []
  },
  {
   "cell_type": "code",
   "execution_count": null,
   "metadata": {},
   "outputs": [],
   "source": []
  },
  {
   "cell_type": "code",
   "execution_count": null,
   "metadata": {},
   "outputs": [],
   "source": []
  },
  {
   "cell_type": "code",
   "execution_count": null,
   "metadata": {},
   "outputs": [],
   "source": []
  },
  {
   "cell_type": "code",
   "execution_count": null,
   "metadata": {},
   "outputs": [],
   "source": []
  },
  {
   "cell_type": "code",
   "execution_count": null,
   "metadata": {},
   "outputs": [],
   "source": []
  },
  {
   "cell_type": "code",
   "execution_count": null,
   "metadata": {},
   "outputs": [],
   "source": []
  },
  {
   "cell_type": "code",
   "execution_count": null,
   "metadata": {},
   "outputs": [],
   "source": []
  },
  {
   "cell_type": "code",
   "execution_count": null,
   "metadata": {},
   "outputs": [],
   "source": []
  },
  {
   "cell_type": "code",
   "execution_count": null,
   "metadata": {},
   "outputs": [],
   "source": []
  },
  {
   "cell_type": "code",
   "execution_count": null,
   "metadata": {},
   "outputs": [],
   "source": []
  },
  {
   "cell_type": "code",
   "execution_count": null,
   "metadata": {},
   "outputs": [],
   "source": []
  },
  {
   "cell_type": "code",
   "execution_count": null,
   "metadata": {},
   "outputs": [],
   "source": []
  },
  {
   "cell_type": "code",
   "execution_count": null,
   "metadata": {},
   "outputs": [],
   "source": []
  },
  {
   "cell_type": "code",
   "execution_count": null,
   "metadata": {},
   "outputs": [],
   "source": []
  },
  {
   "cell_type": "code",
   "execution_count": null,
   "metadata": {},
   "outputs": [],
   "source": []
  },
  {
   "cell_type": "code",
   "execution_count": null,
   "metadata": {},
   "outputs": [],
   "source": []
  },
  {
   "cell_type": "code",
   "execution_count": null,
   "metadata": {},
   "outputs": [],
   "source": []
  },
  {
   "cell_type": "code",
   "execution_count": null,
   "metadata": {},
   "outputs": [],
   "source": []
  },
  {
   "cell_type": "code",
   "execution_count": null,
   "metadata": {},
   "outputs": [],
   "source": []
  },
  {
   "cell_type": "code",
   "execution_count": null,
   "metadata": {},
   "outputs": [],
   "source": []
  },
  {
   "cell_type": "code",
   "execution_count": null,
   "metadata": {},
   "outputs": [],
   "source": []
  },
  {
   "cell_type": "code",
   "execution_count": null,
   "metadata": {},
   "outputs": [],
   "source": []
  },
  {
   "cell_type": "code",
   "execution_count": null,
   "metadata": {},
   "outputs": [],
   "source": []
  },
  {
   "cell_type": "code",
   "execution_count": null,
   "metadata": {},
   "outputs": [],
   "source": []
  },
  {
   "cell_type": "code",
   "execution_count": null,
   "metadata": {},
   "outputs": [],
   "source": []
  },
  {
   "cell_type": "code",
   "execution_count": null,
   "metadata": {},
   "outputs": [],
   "source": []
  },
  {
   "cell_type": "code",
   "execution_count": null,
   "metadata": {},
   "outputs": [],
   "source": []
  },
  {
   "cell_type": "code",
   "execution_count": null,
   "metadata": {},
   "outputs": [],
   "source": []
  },
  {
   "cell_type": "code",
   "execution_count": null,
   "metadata": {},
   "outputs": [],
   "source": []
  },
  {
   "cell_type": "code",
   "execution_count": null,
   "metadata": {},
   "outputs": [],
   "source": []
  },
  {
   "cell_type": "code",
   "execution_count": null,
   "metadata": {},
   "outputs": [],
   "source": []
  },
  {
   "cell_type": "code",
   "execution_count": null,
   "metadata": {},
   "outputs": [],
   "source": []
  },
  {
   "cell_type": "code",
   "execution_count": null,
   "metadata": {},
   "outputs": [],
   "source": []
  },
  {
   "cell_type": "code",
   "execution_count": null,
   "metadata": {},
   "outputs": [],
   "source": []
  },
  {
   "cell_type": "code",
   "execution_count": null,
   "metadata": {},
   "outputs": [],
   "source": []
  },
  {
   "cell_type": "code",
   "execution_count": null,
   "metadata": {},
   "outputs": [],
   "source": []
  },
  {
   "cell_type": "code",
   "execution_count": null,
   "metadata": {},
   "outputs": [],
   "source": []
  },
  {
   "cell_type": "code",
   "execution_count": null,
   "metadata": {},
   "outputs": [],
   "source": []
  },
  {
   "cell_type": "code",
   "execution_count": null,
   "metadata": {},
   "outputs": [],
   "source": []
  },
  {
   "cell_type": "code",
   "execution_count": null,
   "metadata": {},
   "outputs": [],
   "source": []
  },
  {
   "cell_type": "code",
   "execution_count": null,
   "metadata": {},
   "outputs": [],
   "source": []
  },
  {
   "cell_type": "code",
   "execution_count": null,
   "metadata": {},
   "outputs": [],
   "source": []
  },
  {
   "cell_type": "code",
   "execution_count": null,
   "metadata": {},
   "outputs": [],
   "source": []
  },
  {
   "cell_type": "code",
   "execution_count": null,
   "metadata": {},
   "outputs": [],
   "source": []
  },
  {
   "cell_type": "code",
   "execution_count": null,
   "metadata": {},
   "outputs": [],
   "source": []
  },
  {
   "cell_type": "code",
   "execution_count": null,
   "metadata": {},
   "outputs": [],
   "source": []
  },
  {
   "cell_type": "code",
   "execution_count": null,
   "metadata": {},
   "outputs": [],
   "source": []
  },
  {
   "cell_type": "code",
   "execution_count": null,
   "metadata": {},
   "outputs": [],
   "source": []
  },
  {
   "cell_type": "code",
   "execution_count": null,
   "metadata": {},
   "outputs": [],
   "source": []
  },
  {
   "cell_type": "code",
   "execution_count": null,
   "metadata": {},
   "outputs": [],
   "source": []
  },
  {
   "cell_type": "code",
   "execution_count": null,
   "metadata": {},
   "outputs": [],
   "source": []
  },
  {
   "cell_type": "code",
   "execution_count": null,
   "metadata": {},
   "outputs": [],
   "source": []
  },
  {
   "cell_type": "code",
   "execution_count": null,
   "metadata": {},
   "outputs": [],
   "source": []
  },
  {
   "cell_type": "code",
   "execution_count": null,
   "metadata": {},
   "outputs": [],
   "source": []
  },
  {
   "cell_type": "code",
   "execution_count": null,
   "metadata": {},
   "outputs": [],
   "source": []
  },
  {
   "cell_type": "code",
   "execution_count": null,
   "metadata": {},
   "outputs": [],
   "source": []
  },
  {
   "cell_type": "code",
   "execution_count": null,
   "metadata": {},
   "outputs": [],
   "source": []
  },
  {
   "cell_type": "code",
   "execution_count": null,
   "metadata": {},
   "outputs": [],
   "source": []
  },
  {
   "cell_type": "code",
   "execution_count": null,
   "metadata": {},
   "outputs": [],
   "source": []
  },
  {
   "cell_type": "code",
   "execution_count": null,
   "metadata": {},
   "outputs": [],
   "source": [
    "\n",
    "\n"
   ]
  },
  {
   "cell_type": "code",
   "execution_count": null,
   "metadata": {},
   "outputs": [],
   "source": []
  },
  {
   "cell_type": "code",
   "execution_count": null,
   "metadata": {},
   "outputs": [],
   "source": []
  },
  {
   "cell_type": "code",
   "execution_count": null,
   "metadata": {},
   "outputs": [],
   "source": []
  },
  {
   "cell_type": "code",
   "execution_count": null,
   "metadata": {},
   "outputs": [],
   "source": []
  },
  {
   "cell_type": "code",
   "execution_count": null,
   "metadata": {},
   "outputs": [],
   "source": []
  },
  {
   "cell_type": "code",
   "execution_count": null,
   "metadata": {},
   "outputs": [],
   "source": []
  },
  {
   "cell_type": "code",
   "execution_count": null,
   "metadata": {},
   "outputs": [],
   "source": []
  },
  {
   "cell_type": "code",
   "execution_count": null,
   "metadata": {},
   "outputs": [],
   "source": []
  },
  {
   "cell_type": "code",
   "execution_count": null,
   "metadata": {},
   "outputs": [],
   "source": []
  },
  {
   "cell_type": "code",
   "execution_count": null,
   "metadata": {},
   "outputs": [],
   "source": []
  },
  {
   "cell_type": "code",
   "execution_count": null,
   "metadata": {},
   "outputs": [],
   "source": []
  },
  {
   "cell_type": "code",
   "execution_count": null,
   "metadata": {},
   "outputs": [],
   "source": []
  },
  {
   "cell_type": "code",
   "execution_count": null,
   "metadata": {},
   "outputs": [],
   "source": []
  },
  {
   "cell_type": "code",
   "execution_count": null,
   "metadata": {},
   "outputs": [],
   "source": []
  },
  {
   "cell_type": "code",
   "execution_count": null,
   "metadata": {},
   "outputs": [],
   "source": []
  },
  {
   "cell_type": "code",
   "execution_count": null,
   "metadata": {},
   "outputs": [],
   "source": []
  },
  {
   "cell_type": "code",
   "execution_count": null,
   "metadata": {},
   "outputs": [],
   "source": []
  },
  {
   "cell_type": "code",
   "execution_count": null,
   "metadata": {},
   "outputs": [],
   "source": []
  },
  {
   "cell_type": "code",
   "execution_count": null,
   "metadata": {},
   "outputs": [],
   "source": []
  },
  {
   "cell_type": "code",
   "execution_count": null,
   "metadata": {},
   "outputs": [],
   "source": []
  },
  {
   "cell_type": "code",
   "execution_count": null,
   "metadata": {},
   "outputs": [],
   "source": []
  },
  {
   "cell_type": "code",
   "execution_count": null,
   "metadata": {},
   "outputs": [],
   "source": []
  },
  {
   "cell_type": "code",
   "execution_count": null,
   "metadata": {},
   "outputs": [],
   "source": []
  },
  {
   "cell_type": "code",
   "execution_count": null,
   "metadata": {},
   "outputs": [],
   "source": []
  },
  {
   "cell_type": "code",
   "execution_count": null,
   "metadata": {},
   "outputs": [],
   "source": []
  },
  {
   "cell_type": "code",
   "execution_count": null,
   "metadata": {},
   "outputs": [],
   "source": []
  },
  {
   "cell_type": "code",
   "execution_count": null,
   "metadata": {},
   "outputs": [],
   "source": []
  },
  {
   "cell_type": "code",
   "execution_count": null,
   "metadata": {},
   "outputs": [],
   "source": []
  },
  {
   "cell_type": "code",
   "execution_count": null,
   "metadata": {},
   "outputs": [],
   "source": []
  },
  {
   "cell_type": "code",
   "execution_count": null,
   "metadata": {},
   "outputs": [],
   "source": []
  },
  {
   "cell_type": "code",
   "execution_count": null,
   "metadata": {},
   "outputs": [],
   "source": []
  },
  {
   "cell_type": "code",
   "execution_count": null,
   "metadata": {},
   "outputs": [],
   "source": []
  },
  {
   "cell_type": "code",
   "execution_count": null,
   "metadata": {},
   "outputs": [],
   "source": []
  },
  {
   "cell_type": "code",
   "execution_count": null,
   "metadata": {},
   "outputs": [],
   "source": []
  },
  {
   "cell_type": "code",
   "execution_count": null,
   "metadata": {},
   "outputs": [],
   "source": []
  },
  {
   "cell_type": "code",
   "execution_count": null,
   "metadata": {},
   "outputs": [],
   "source": []
  },
  {
   "cell_type": "code",
   "execution_count": null,
   "metadata": {},
   "outputs": [],
   "source": []
  },
  {
   "cell_type": "code",
   "execution_count": null,
   "metadata": {},
   "outputs": [],
   "source": []
  },
  {
   "cell_type": "code",
   "execution_count": null,
   "metadata": {},
   "outputs": [],
   "source": []
  },
  {
   "cell_type": "code",
   "execution_count": null,
   "metadata": {},
   "outputs": [],
   "source": []
  },
  {
   "cell_type": "code",
   "execution_count": null,
   "metadata": {},
   "outputs": [],
   "source": []
  },
  {
   "cell_type": "code",
   "execution_count": null,
   "metadata": {},
   "outputs": [],
   "source": []
  },
  {
   "cell_type": "code",
   "execution_count": null,
   "metadata": {},
   "outputs": [],
   "source": []
  },
  {
   "cell_type": "code",
   "execution_count": null,
   "metadata": {},
   "outputs": [],
   "source": []
  },
  {
   "cell_type": "code",
   "execution_count": null,
   "metadata": {},
   "outputs": [],
   "source": []
  },
  {
   "cell_type": "code",
   "execution_count": null,
   "metadata": {},
   "outputs": [],
   "source": []
  },
  {
   "cell_type": "code",
   "execution_count": null,
   "metadata": {},
   "outputs": [],
   "source": []
  },
  {
   "cell_type": "code",
   "execution_count": null,
   "metadata": {},
   "outputs": [],
   "source": []
  },
  {
   "cell_type": "code",
   "execution_count": null,
   "metadata": {},
   "outputs": [],
   "source": []
  },
  {
   "cell_type": "code",
   "execution_count": null,
   "metadata": {},
   "outputs": [],
   "source": []
  },
  {
   "cell_type": "code",
   "execution_count": null,
   "metadata": {},
   "outputs": [],
   "source": []
  },
  {
   "cell_type": "code",
   "execution_count": null,
   "metadata": {},
   "outputs": [],
   "source": []
  },
  {
   "cell_type": "code",
   "execution_count": null,
   "metadata": {},
   "outputs": [],
   "source": []
  },
  {
   "cell_type": "code",
   "execution_count": null,
   "metadata": {},
   "outputs": [],
   "source": []
  },
  {
   "cell_type": "code",
   "execution_count": null,
   "metadata": {},
   "outputs": [],
   "source": []
  },
  {
   "cell_type": "code",
   "execution_count": null,
   "metadata": {},
   "outputs": [],
   "source": []
  },
  {
   "cell_type": "code",
   "execution_count": null,
   "metadata": {},
   "outputs": [],
   "source": []
  },
  {
   "cell_type": "code",
   "execution_count": null,
   "metadata": {},
   "outputs": [],
   "source": []
  },
  {
   "cell_type": "code",
   "execution_count": null,
   "metadata": {},
   "outputs": [],
   "source": []
  },
  {
   "cell_type": "code",
   "execution_count": null,
   "metadata": {},
   "outputs": [],
   "source": []
  },
  {
   "cell_type": "code",
   "execution_count": null,
   "metadata": {},
   "outputs": [],
   "source": []
  },
  {
   "cell_type": "code",
   "execution_count": null,
   "metadata": {},
   "outputs": [],
   "source": []
  },
  {
   "cell_type": "code",
   "execution_count": null,
   "metadata": {},
   "outputs": [],
   "source": []
  },
  {
   "cell_type": "code",
   "execution_count": null,
   "metadata": {},
   "outputs": [],
   "source": []
  },
  {
   "cell_type": "code",
   "execution_count": null,
   "metadata": {},
   "outputs": [],
   "source": []
  },
  {
   "cell_type": "code",
   "execution_count": null,
   "metadata": {},
   "outputs": [],
   "source": []
  },
  {
   "cell_type": "code",
   "execution_count": null,
   "metadata": {},
   "outputs": [],
   "source": []
  },
  {
   "cell_type": "code",
   "execution_count": null,
   "metadata": {},
   "outputs": [],
   "source": []
  },
  {
   "cell_type": "code",
   "execution_count": null,
   "metadata": {},
   "outputs": [],
   "source": []
  },
  {
   "cell_type": "code",
   "execution_count": null,
   "metadata": {},
   "outputs": [],
   "source": []
  },
  {
   "cell_type": "code",
   "execution_count": null,
   "metadata": {},
   "outputs": [],
   "source": []
  },
  {
   "cell_type": "code",
   "execution_count": null,
   "metadata": {},
   "outputs": [],
   "source": []
  },
  {
   "cell_type": "code",
   "execution_count": null,
   "metadata": {},
   "outputs": [],
   "source": []
  },
  {
   "cell_type": "code",
   "execution_count": null,
   "metadata": {},
   "outputs": [],
   "source": []
  },
  {
   "cell_type": "code",
   "execution_count": null,
   "metadata": {},
   "outputs": [],
   "source": []
  },
  {
   "cell_type": "code",
   "execution_count": null,
   "metadata": {},
   "outputs": [],
   "source": []
  },
  {
   "cell_type": "code",
   "execution_count": null,
   "metadata": {},
   "outputs": [],
   "source": []
  },
  {
   "cell_type": "code",
   "execution_count": null,
   "metadata": {},
   "outputs": [],
   "source": []
  },
  {
   "cell_type": "code",
   "execution_count": null,
   "metadata": {},
   "outputs": [],
   "source": []
  },
  {
   "cell_type": "code",
   "execution_count": null,
   "metadata": {},
   "outputs": [],
   "source": []
  },
  {
   "cell_type": "code",
   "execution_count": null,
   "metadata": {},
   "outputs": [],
   "source": []
  },
  {
   "cell_type": "code",
   "execution_count": null,
   "metadata": {},
   "outputs": [],
   "source": []
  },
  {
   "cell_type": "code",
   "execution_count": null,
   "metadata": {},
   "outputs": [],
   "source": []
  },
  {
   "cell_type": "code",
   "execution_count": null,
   "metadata": {},
   "outputs": [],
   "source": []
  },
  {
   "cell_type": "code",
   "execution_count": null,
   "metadata": {},
   "outputs": [],
   "source": []
  },
  {
   "cell_type": "code",
   "execution_count": null,
   "metadata": {},
   "outputs": [],
   "source": []
  },
  {
   "cell_type": "code",
   "execution_count": null,
   "metadata": {},
   "outputs": [],
   "source": []
  },
  {
   "cell_type": "code",
   "execution_count": null,
   "metadata": {},
   "outputs": [],
   "source": []
  },
  {
   "cell_type": "code",
   "execution_count": null,
   "metadata": {},
   "outputs": [],
   "source": []
  },
  {
   "cell_type": "code",
   "execution_count": null,
   "metadata": {},
   "outputs": [],
   "source": []
  },
  {
   "cell_type": "code",
   "execution_count": null,
   "metadata": {},
   "outputs": [],
   "source": []
  },
  {
   "cell_type": "code",
   "execution_count": null,
   "metadata": {},
   "outputs": [],
   "source": []
  },
  {
   "cell_type": "code",
   "execution_count": null,
   "metadata": {},
   "outputs": [],
   "source": []
  }
 ],
 "metadata": {
  "kernelspec": {
   "display_name": "Python 3",
   "language": "python",
   "name": "python3"
  },
  "language_info": {
   "codemirror_mode": {
    "name": "ipython",
    "version": 3
   },
   "file_extension": ".py",
   "mimetype": "text/x-python",
   "name": "python",
   "nbconvert_exporter": "python",
   "pygments_lexer": "ipython3",
   "version": "3.7.7"
  }
 },
 "nbformat": 4,
 "nbformat_minor": 4
}
